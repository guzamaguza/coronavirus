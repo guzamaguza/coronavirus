{
 "cells": [
  {
   "cell_type": "markdown",
   "id": "0c5d34a5",
   "metadata": {},
   "source": [
    "You predict six people will get coronavirus."
   ]
  },
  {
   "cell_type": "code",
   "execution_count": null,
   "id": "8f343b55",
   "metadata": {},
   "outputs": [],
   "source": [
    "y_pred = [0, 0, 0, 0, 1, 1, 1, 1, 1, 1]"
   ]
  },
  {
   "cell_type": "markdown",
   "id": "9bf7939f",
   "metadata": {},
   "source": [
    "By the end of season, you find only five people had coronavirus."
   ]
  },
  {
   "cell_type": "code",
   "execution_count": null,
   "id": "32a7ab14",
   "metadata": {},
   "outputs": [],
   "source": [
    "y_true = [0, 0, 0, 0, 0, 1, 1, 1, 1, 1]"
   ]
  },
  {
   "cell_type": "markdown",
   "id": "0fb25d1b",
   "metadata": {},
   "source": [
    "We create a confusion matrix."
   ]
  },
  {
   "cell_type": "code",
   "execution_count": null,
   "id": "69ac721f",
   "metadata": {},
   "outputs": [],
   "source": [
    "from sklearn.metrics import confusion_matrix\n",
    "\n",
    "tn, fp, fn, tp = confusion_matrix(y_true, y_pred).ravel()"
   ]
  },
  {
   "cell_type": "markdown",
   "id": "c59aead0",
   "metadata": {},
   "source": [
    "Disply the confusion matrix (here is the confusion matrix: TP = 5, TN = 4, FP = 1, FN = 0)."
   ]
  },
  {
   "cell_type": "code",
   "execution_count": null,
   "id": "c020b8ec",
   "metadata": {},
   "outputs": [],
   "source": [
    "print('Here is our confusion matrix.')\n",
    "\n",
    "import pandas as pd\n",
    "cmtx = pd.DataFrame(\n",
    "    confusion_matrix(y_true, y_pred, labels=[1, 0]), \n",
    "    index=['true:1', 'true:0'], \n",
    "    columns=['pred:1', 'pred:0']\n",
    ")\n",
    "print(cmtx)"
   ]
  },
  {
   "cell_type": "markdown",
   "id": "f26dfd42",
   "metadata": {},
   "source": [
    "Here is our confusion matrix.\n",
    "        pred:1  pred:0\n",
    "true:1       5       0\n",
    "true:0       1       4\n",
    "We calculate the percentage of sick people who are correctly identified as having the condition (also called sensitivity)."
   ]
  },
  {
   "cell_type": "code",
   "execution_count": null,
   "id": "4538bc42",
   "metadata": {},
   "outputs": [],
   "source": [
    "sensitivity = tp / (tp+fn)\n",
    "print('The percentage of sick people who are correctly identified as having the condition')\n",
    "print('Sensitivity : %7.3f %%' % (sensitivity*100),'\\n')"
   ]
  },
  {
   "cell_type": "markdown",
   "id": "27e4bee5",
   "metadata": {},
   "source": [
    "The percentage of sick people who are correctly identified as having the condition\n",
    "Sensitivity : 100.000 % \n",
    "\n",
    "We also the percentage of healthy people who are correctly identified as not having the condition (also called specificity)."
   ]
  },
  {
   "cell_type": "code",
   "execution_count": null,
   "id": "1e9705ef",
   "metadata": {},
   "outputs": [],
   "source": [
    "specificity = tn / (tn+fp)\n",
    "print('The percentage of healthy people who are correctly identified as not having the condition')\n",
    "print('Specificity : %7.3f %%' % (specificity*100))"
   ]
  },
  {
   "cell_type": "markdown",
   "id": "ef6963b4",
   "metadata": {},
   "source": [
    "The percentage of healthy people who are correctly identified as not having the condition\n",
    "Specificity :  80.000 %\n",
    "Next, we calculate the precision of this algorithm."
   ]
  },
  {
   "cell_type": "markdown",
   "id": "faae7072",
   "metadata": {},
   "source": []
  }
 ],
 "metadata": {
  "kernelspec": {
   "display_name": "Python 3",
   "language": "python",
   "name": "python3"
  },
  "language_info": {
   "codemirror_mode": {
    "name": "ipython",
    "version": 3
   },
   "file_extension": ".py",
   "mimetype": "text/x-python",
   "name": "python",
   "nbconvert_exporter": "python",
   "pygments_lexer": "ipython3",
   "version": "3.8.8"
  }
 },
 "nbformat": 4,
 "nbformat_minor": 5
}
